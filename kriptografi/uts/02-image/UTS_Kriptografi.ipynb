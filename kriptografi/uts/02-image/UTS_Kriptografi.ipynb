{
  "nbformat": 4,
  "nbformat_minor": 0,
  "metadata": {
    "colab": {
      "provenance": [],
      "gpuType": "T4"
    },
    "kernelspec": {
      "name": "python3",
      "display_name": "Python 3"
    },
    "language_info": {
      "name": "python"
    },
    "accelerator": "GPU"
  },
  "cells": [
    {
      "cell_type": "markdown",
      "source": [
        "# Text Converter"
      ],
      "metadata": {
        "id": "dc9WozSyvXlC"
      }
    },
    {
      "cell_type": "markdown",
      "source": [
        "## Text to Binary"
      ],
      "metadata": {
        "id": "Y5DYbhSO0c95"
      }
    },
    {
      "cell_type": "code",
      "source": [
        "def text_to_binary(text):\n",
        "    # Mengubah setiap karakter menjadi representasi biner 8-bit\n",
        "    binary_representation = ''.join(format(ord(char), '08b') for char in text)\n",
        "    return binary_representation"
      ],
      "metadata": {
        "id": "idhXYLcQu2Mt"
      },
      "execution_count": null,
      "outputs": []
    },
    {
      "cell_type": "code",
      "source": [
        "plaintext = \"Komputer\"\n",
        "plaintext_binary = text_to_binary(plaintext)\n",
        "print(f\"Plaintext: {plaintext_binary}\")\n",
        "\n",
        "key = \"4611422062\"\n",
        "key_binary = text_to_binary(key)\n",
        "print(f\"Key: {key_binary}\")"
      ],
      "metadata": {
        "colab": {
          "base_uri": "https://localhost:8080/"
        },
        "id": "nMwAWdaXu-PI",
        "outputId": "7722430f-3b81-4bf3-bc1d-ad55d5cee993"
      },
      "execution_count": null,
      "outputs": [
        {
          "output_type": "stream",
          "name": "stdout",
          "text": [
            "Plaintext: 0100101101101111011011010111000001110101011101000110010101110010\n",
            "Key: 00110100001101100011000100110001001101000011001000110010001100000011011000110010\n"
          ]
        }
      ]
    },
    {
      "cell_type": "markdown",
      "source": [
        "## Binary to Text"
      ],
      "metadata": {
        "id": "iZpSOMhZ0fqf"
      }
    },
    {
      "cell_type": "code",
      "source": [
        "def binary_to_text(binary_string):\n",
        "    # Membagi biner menjadi grup 8 bit\n",
        "    chars = [binary_string[i:i+8] for i in range(0, len(binary_string), 8)]\n",
        "\n",
        "    # Mengubah setiap grup biner menjadi karakter\n",
        "    text = ''.join([chr(int(char, 2)) for char in chars])\n",
        "\n",
        "    return text"
      ],
      "metadata": {
        "id": "ErDAIT4vvclp"
      },
      "execution_count": 22,
      "outputs": []
    },
    {
      "cell_type": "code",
      "source": [
        "input = key_binary\n",
        "text = binary_to_text(input)\n",
        "print(text)"
      ],
      "metadata": {
        "colab": {
          "base_uri": "https://localhost:8080/"
        },
        "id": "9MfppGQ7v9us",
        "outputId": "54724378-e520-4e93-8788-6d4d705820f8"
      },
      "execution_count": null,
      "outputs": [
        {
          "output_type": "stream",
          "name": "stdout",
          "text": [
            "4611422062\n"
          ]
        }
      ]
    },
    {
      "cell_type": "markdown",
      "source": [
        "## Binary to Hex"
      ],
      "metadata": {
        "id": "O19EUOXM0iKB"
      }
    },
    {
      "cell_type": "code",
      "source": [
        "def binary_to_hex(binary_string):\n",
        "    # Pastikan panjang string biner adalah kelipatan 4\n",
        "    binary_string = binary_string.zfill(len(binary_string) + (4 - len(binary_string) % 4) % 4)\n",
        "\n",
        "    # Konversi biner ke integer, lalu integer ke heksadesimal\n",
        "    hex_string = hex(int(binary_string, 2))[2:]  # [2:] untuk menghilangkan prefix '0x'\n",
        "\n",
        "    return hex_string.upper()"
      ],
      "metadata": {
        "id": "3Ui3T2Fz0alj"
      },
      "execution_count": null,
      "outputs": []
    },
    {
      "cell_type": "code",
      "source": [
        "encrypt_result = '1101001001100101101100010100011011000010011111001010101011010011'\n",
        "hex_result = binary_to_hex(encrypt_result)\n",
        "print(hex_result)"
      ],
      "metadata": {
        "colab": {
          "base_uri": "https://localhost:8080/"
        },
        "id": "LkwaFtPO0su7",
        "outputId": "5e9bc913-9143-45fc-d636-586dcefd3e14"
      },
      "execution_count": null,
      "outputs": [
        {
          "output_type": "stream",
          "name": "stdout",
          "text": [
            "D265B146C27CAAD3\n"
          ]
        }
      ]
    },
    {
      "cell_type": "markdown",
      "source": [
        "# DES Base"
      ],
      "metadata": {
        "id": "PPGThG4KGx_E"
      }
    },
    {
      "cell_type": "markdown",
      "source": [
        "## Table"
      ],
      "metadata": {
        "id": "-QT-m0q0IV6j"
      }
    },
    {
      "cell_type": "code",
      "source": [
        "# Define the necessary DES tables (initial permutation, final permutation, etc.)\n",
        "INITIAL_PERMUTATION_TABLE = [58, 50, 42, 34, 26, 18, 10, 2,\n",
        "                             60, 52, 44, 36, 28, 20, 12, 4,\n",
        "                             62, 54, 46, 38, 30, 22, 14, 6,\n",
        "                             64, 56, 48, 40, 32, 24, 16, 8,\n",
        "                             57, 49, 41, 33, 25, 17, 9, 1,\n",
        "                             59, 51, 43, 35, 27, 19, 11, 3,\n",
        "                             61, 53, 45, 37, 29, 21, 13, 5,\n",
        "                             63, 55, 47, 39, 31, 23, 15, 7]\n",
        "\n",
        "FINAL_PERMUTATION_TABLE = [40, 8, 48, 16, 56, 24, 64, 32,\n",
        "                           39, 7, 47, 15, 55, 23, 63, 31,\n",
        "                           38, 6, 46, 14, 54, 22, 62, 30,\n",
        "                           37, 5, 45, 13, 53, 21, 61, 29,\n",
        "                           36, 4, 44, 12, 52, 20, 60, 28,\n",
        "                           35, 3, 43, 11, 51, 19, 59, 27,\n",
        "                           34, 2, 42, 10, 50, 18, 58, 26,\n",
        "                           33, 1, 41, 9, 49, 17, 57, 25]\n",
        "\n",
        "EXPANSION_TABLE = [32, 1, 2, 3, 4, 5,\n",
        "                   4, 5, 6, 7, 8, 9,\n",
        "                   8, 9, 10, 11, 12, 13,\n",
        "                   12, 13, 14, 15, 16, 17,\n",
        "                   16, 17, 18, 19, 20, 21,\n",
        "                   20, 21, 22, 23, 24, 25,\n",
        "                   24, 25, 26, 27, 28, 29,\n",
        "                   28, 29, 30, 31, 32, 1]\n",
        "\n",
        "# S-boxes for DES (there are 8 S-boxes)\n",
        "S_BOXES = [\n",
        "    # S1\n",
        "    [[14, 4, 13, 1, 2, 15, 11, 8, 3, 10, 6, 12, 5, 9, 0, 7],\n",
        "     [0, 15, 7, 4, 14, 2, 13, 1, 10, 6, 12, 11, 9, 5, 3, 8],\n",
        "     [4, 1, 14, 8, 13, 6, 2, 11, 15, 12, 9, 7, 3, 10, 5, 0],\n",
        "     [15, 12, 8, 2, 4, 9, 1, 7, 5, 11, 3, 14, 10, 0, 6, 13]],\n",
        "\n",
        "    # S2\n",
        "    [[15, 1, 8, 14, 6, 11, 3, 4, 9, 7, 2, 13, 12, 0, 5, 10],\n",
        "     [3, 13, 4, 7, 15, 2, 8, 14, 12, 0, 1, 10, 6, 9, 11, 5],\n",
        "     [0, 14, 7, 11, 10, 4, 13, 1, 5, 8, 12, 6, 9, 3, 2, 15],\n",
        "     [13, 8, 10, 1, 3, 15, 4, 2, 11, 6, 7, 12, 0, 5, 14, 9]],\n",
        "\n",
        "    # S3\n",
        "    [[10, 0, 9, 14, 6, 3, 15, 5, 1, 13, 12, 7, 11, 4, 2, 8],\n",
        "     [13, 7, 0, 9, 3, 4, 6, 10, 2, 8, 5, 14, 12, 11, 15, 1],\n",
        "     [13, 6, 4, 9, 8, 15, 3, 0, 11, 1, 2, 12, 5, 10, 14, 7],\n",
        "     [1, 10, 13, 0, 6, 9, 8, 7, 4, 15, 14, 3, 11, 5, 2, 12]],\n",
        "\n",
        "    # S4\n",
        "    [[7, 13, 14, 3, 0, 6, 9, 10, 1, 2, 8, 5, 11, 12, 4, 15],\n",
        "     [13, 8, 11, 5, 6, 15, 0, 3, 4, 7, 2, 12, 1, 10, 14, 9],\n",
        "     [10, 6, 9, 0, 12, 11, 7, 13, 15, 1, 3, 14, 5, 2, 8, 4],\n",
        "     [3, 15, 0, 6, 10, 1, 13, 8, 9, 4, 5, 11, 12, 7, 2, 14]],\n",
        "\n",
        "    # S5\n",
        "    [[2, 12, 4, 1, 7, 10, 11, 6, 8, 5, 3, 15, 13, 0, 14, 9],\n",
        "     [14, 11, 2, 12, 4, 7, 13, 1, 5, 0, 15, 10, 3, 9, 8, 6],\n",
        "     [4, 2, 1, 11, 10, 13, 7, 8, 15, 9, 12, 5, 6, 3, 0, 14],\n",
        "     [11, 8, 12, 7, 1, 14, 2, 13, 6, 15, 0, 9, 10, 4, 5, 3]],\n",
        "\n",
        "    # S6\n",
        "    [[12, 1, 10, 15, 9, 2, 6, 8, 0, 13, 3, 4, 14, 7, 5, 11],\n",
        "     [10, 15, 4, 2, 7, 12, 9, 5, 6, 1, 13, 14, 0, 11, 3, 8],\n",
        "     [9, 14, 15, 5, 2, 8, 12, 3, 7, 0, 4, 10, 1, 13, 11, 6],\n",
        "     [4, 3, 2, 12, 9, 5, 15, 10, 11, 14, 1, 7, 6, 0, 8, 13]],\n",
        "\n",
        "    # S7\n",
        "    [[4, 11, 2, 14, 15, 0, 8, 13, 3, 12, 9, 7, 5, 10, 6, 1],\n",
        "     [13, 0, 11, 7, 4, 9, 1, 10, 14, 3, 5, 12, 2, 15, 8, 6],\n",
        "     [1, 4, 11, 13, 12, 3, 7, 14, 10, 15, 6, 8, 0, 5, 9, 2],\n",
        "     [6, 11, 13, 8, 1, 4, 10, 7, 9, 5, 0, 15, 14, 2, 3, 12]],\n",
        "\n",
        "    # S8\n",
        "    [[13, 2, 8, 4, 6, 15, 11, 1, 10, 9, 3, 14, 5, 0, 12, 7],\n",
        "     [1, 15, 13, 8, 10, 3, 7, 4, 12, 5, 6, 11, 0, 14, 9, 2],\n",
        "     [7, 11, 4, 1, 9, 12, 14, 2, 0, 6, 10, 13, 15, 3, 5, 8],\n",
        "     [2, 1, 14, 7, 4, 10, 8, 13, 15, 12, 9, 0, 3, 5, 6, 11]]\n",
        "]\n",
        "\n",
        "\n",
        "# Permutation table for function f output\n",
        "PERMUTATION_TABLE = [16, 7, 20, 21, 29, 12, 28, 17,\n",
        "                     1, 15, 23, 26, 5, 18, 31, 10,\n",
        "                     2, 8, 24, 14, 32, 27, 3, 9,\n",
        "                     19, 13, 30, 6, 22, 11, 4, 25]\n",
        "\n",
        "# Permutation Choice 1 table for the key (PC-1)\n",
        "PC_1 = [57, 49, 41, 33, 25, 17, 9,\n",
        "        1, 58, 50, 42, 34, 26, 18,\n",
        "        10, 2, 59, 51, 43, 35, 27,\n",
        "        19, 11, 3, 60, 52, 44, 36,\n",
        "        63, 55, 47, 39, 31, 23, 15,\n",
        "        7, 62, 54, 46, 38, 30, 22,\n",
        "        14, 6, 61, 53, 45, 37, 29,\n",
        "        21, 13, 5, 28, 20, 12, 4]\n",
        "\n",
        "# Key shift schedule (1 or 2 bit shifts)\n",
        "SHIFT_SCHEDULE = [1, 1, 2, 2, 2, 2, 2, 2,\n",
        "                  1, 2, 2, 2, 2, 2, 2, 1]\n",
        "\n",
        "# Permutation Choice 2 table for the key (PC-2)\n",
        "PC_2 = [14, 17, 11, 24, 1, 5,\n",
        "        3, 28, 15, 6, 21, 10,\n",
        "        23, 19, 12, 4, 26, 8,\n",
        "        16, 7, 27, 20, 13, 2,\n",
        "        41, 52, 31, 37, 47, 55,\n",
        "        30, 40, 51, 45, 33, 48,\n",
        "        44, 49, 39, 56, 34, 53,\n",
        "        46, 42, 50, 36, 29, 32]"
      ],
      "metadata": {
        "id": "QJceJjhHxMVq"
      },
      "execution_count": 67,
      "outputs": []
    },
    {
      "cell_type": "markdown",
      "source": [
        "## Program"
      ],
      "metadata": {
        "id": "HoDHIJ4sIYXo"
      }
    },
    {
      "cell_type": "code",
      "source": [
        "# Helper functions\n",
        "def pad_block(block, block_size=64):\n",
        "    \"\"\"Pads block to the required block size using zero-padding.\"\"\"\n",
        "    if len(block) < block_size:\n",
        "        block += '0' * (block_size - len(block))\n",
        "    return block\n",
        "\n",
        "def permute(block, table):\n",
        "    \"\"\"Permute a block based on a table (indexes).\"\"\"\n",
        "    # Ensure block is 64 bits\n",
        "    block = pad_block(block, max(table))\n",
        "    return ''.join(block[i - 1] for i in table)\n",
        "\n",
        "def xor(a, b):\n",
        "    \"\"\"Perform XOR between two binary strings.\"\"\"\n",
        "    return ''.join('0' if i == j else '1' for i, j in zip(a, b))\n",
        "\n",
        "def s_box_lookup(bits, sbox_number):\n",
        "    \"\"\"S-box substitution.\"\"\"\n",
        "    sbox = S_BOXES[sbox_number]\n",
        "    row = int(bits[0] + bits[5], 2)  # Row from first and last bit\n",
        "    col = int(bits[1:5], 2)  # Column from the middle 4 bits\n",
        "    return format(sbox[row][col], '04b')\n",
        "\n",
        "def split_half(block):\n",
        "    \"\"\"Split block into two halves.\"\"\"\n",
        "    mid = len(block) // 2\n",
        "    return block[:mid], block[mid:]\n",
        "\n",
        "# Key scheduling for 16 rounds of subkeys\n",
        "def key_schedule(key):\n",
        "    key = permute(key, PC_1)\n",
        "    C, D = split_half(key)\n",
        "    subkeys = []\n",
        "    for i in range(16):\n",
        "        C = C[SHIFT_SCHEDULE[i]:] + C[:SHIFT_SCHEDULE[i]]\n",
        "        D = D[SHIFT_SCHEDULE[i]:] + D[:SHIFT_SCHEDULE[i]]\n",
        "        subkey = permute(C + D, PC_2)\n",
        "        subkeys.append(subkey)\n",
        "    return subkeys\n",
        "\n",
        "# DES Function f (used in each round)\n",
        "def function_f(R, subkey):\n",
        "    expanded_R = permute(R, EXPANSION_TABLE)  # Expand R from 32 to 48 bits\n",
        "    xored = xor(expanded_R, subkey)  # XOR expanded R with subkey\n",
        "\n",
        "    # Apply S-box substitution\n",
        "    sbox_output = ''.join(s_box_lookup(xored[i*6:(i+1)*6], i) for i in range(8))\n",
        "\n",
        "    # Apply permutation after S-box\n",
        "    return permute(sbox_output, PERMUTATION_TABLE)"
      ],
      "metadata": {
        "id": "u6C3iD1FIZlA"
      },
      "execution_count": 68,
      "outputs": []
    },
    {
      "cell_type": "markdown",
      "source": [
        "## Enkripsi"
      ],
      "metadata": {
        "id": "oVdy-3g4uvf7"
      }
    },
    {
      "cell_type": "code",
      "source": [
        "def des_encrypt(plaintext, key):\n",
        "    # Initial permutation\n",
        "    plaintext = permute(plaintext, INITIAL_PERMUTATION_TABLE)\n",
        "    L, R = split_half(plaintext)\n",
        "    subkeys = key_schedule(key)\n",
        "\n",
        "    # 16 rounds of DES\n",
        "    for i in range(16):\n",
        "        L, R = R, xor(L, function_f(R, subkeys[i]))\n",
        "\n",
        "    # Final permutation\n",
        "    return permute(R + L, FINAL_PERMUTATION_TABLE)"
      ],
      "metadata": {
        "id": "mlbtizKBW0uY"
      },
      "execution_count": 69,
      "outputs": []
    },
    {
      "cell_type": "markdown",
      "source": [
        "## Dekripsi"
      ],
      "metadata": {
        "id": "TcBh8d8i0DQP"
      }
    },
    {
      "cell_type": "code",
      "source": [
        "def des_decrypt(ciphertext, key):\n",
        "    # Initial permutation\n",
        "    ciphertext = permute(ciphertext, INITIAL_PERMUTATION_TABLE)\n",
        "    L, R = split_half(ciphertext)\n",
        "    subkeys = key_schedule(key)\n",
        "\n",
        "    # 16 rounds of DES (in reverse order for decryption)\n",
        "    for i in range(15, -1, -1):\n",
        "        L, R = R, xor(L, function_f(R, subkeys[i]))\n",
        "\n",
        "    # Final permutation\n",
        "    return permute(R + L, FINAL_PERMUTATION_TABLE)"
      ],
      "metadata": {
        "id": "hVZ5kULj0FMI"
      },
      "execution_count": 70,
      "outputs": []
    },
    {
      "cell_type": "markdown",
      "source": [
        "# DES Image"
      ],
      "metadata": {
        "id": "p0HGjh1ALdL9"
      }
    },
    {
      "cell_type": "markdown",
      "source": [
        "## Converter"
      ],
      "metadata": {
        "id": "fVelMTlgLmZt"
      }
    },
    {
      "cell_type": "code",
      "source": [
        "from PIL import Image\n",
        "import numpy as np\n",
        "\n",
        "# Fungsi untuk membuka dan mengonversi gambar menjadi byte data\n",
        "def load_image(image_path):\n",
        "    img = Image.open(image_path)\n",
        "    img_data = np.array(img)  # Konversi gambar ke array numpy\n",
        "    return img, img_data\n",
        "\n",
        "# Fungsi untuk menyimpan gambar yang sudah diacak setelah enkripsi\n",
        "def save_image(image_data, output_path):\n",
        "    img = Image.fromarray(image_data.astype('uint8'))  # Konversi array numpy kembali ke gambar\n",
        "    img.save(output_path)\n",
        "\n",
        "# Fungsi untuk memecah gambar menjadi blok-blok 64-bit\n",
        "def image_to_blocks(image_data):\n",
        "    flat_image = image_data.flatten()  # Membuat array datar dari gambar (1D)\n",
        "    binary_data = ''.join([format(pixel, '08b') for pixel in flat_image])  # Konversi piksel menjadi biner\n",
        "    return [binary_data[i:i+64] for i in range(0, len(binary_data), 64)]  # Memecah menjadi blok 64-bit\n",
        "\n",
        "# Fungsi untuk menggabungkan blok-blok yang telah dienkripsi kembali menjadi gambar\n",
        "def blocks_to_image(blocks, original_shape):\n",
        "    binary_string = ''.join(blocks)\n",
        "    byte_array = [int(binary_string[i:i+8], 2) for i in range(0, len(binary_string), 8)]\n",
        "    return np.array(byte_array).reshape(original_shape)  # Mengembalikan ke bentuk gambar asli"
      ],
      "metadata": {
        "id": "iH2yUw34LtzJ"
      },
      "execution_count": 71,
      "outputs": []
    },
    {
      "cell_type": "markdown",
      "source": [
        "## Enkripsi"
      ],
      "metadata": {
        "id": "u8ecV_TqLwdj"
      }
    },
    {
      "cell_type": "code",
      "source": [
        "def encrypt_image(input_image_path, key, output_image_path):\n",
        "    # Open the image and convert to RGB or Grayscale\n",
        "    img = Image.open(input_image_path)\n",
        "\n",
        "    # Check if the image is grayscale or color\n",
        "    is_grayscale = img.mode == 'L'\n",
        "    if is_grayscale:\n",
        "        img = img.convert('L')  # Convert to grayscale if it's not already\n",
        "\n",
        "    pixels = list(img.getdata())\n",
        "\n",
        "    # Convert pixels to binary\n",
        "    if is_grayscale:\n",
        "        binary_pixels = ''.join(format(pixel, '08b') for pixel in pixels)\n",
        "    else:\n",
        "        binary_pixels = ''.join(format(component, '08b') for pixel in pixels for component in pixel)\n",
        "\n",
        "    encrypted_data = ''\n",
        "\n",
        "    # Encrypt in 64-bit blocks\n",
        "    for i in range(0, len(binary_pixels), 64):\n",
        "        block = binary_pixels[i:i + 64]\n",
        "        block = pad_block(block)  # Pad block if needed\n",
        "        encrypted_block = des_encrypt(block, key)\n",
        "        encrypted_data += encrypted_block\n",
        "\n",
        "    # Save encrypted data into an image\n",
        "    if is_grayscale:\n",
        "        encrypted_image = Image.new('L', img.size)  # Create a new grayscale image\n",
        "        encrypted_pixels = []\n",
        "\n",
        "        for i in range(0, len(encrypted_data), 8):  # 8 bits for grayscale\n",
        "            gray_value = int(encrypted_data[i:i + 8], 2)\n",
        "            encrypted_pixels.append(gray_value)\n",
        "\n",
        "        encrypted_image.putdata(encrypted_pixels)\n",
        "    else:\n",
        "        encrypted_image = Image.new('RGB', img.size)  # Create a new color image\n",
        "        encrypted_pixels = []\n",
        "\n",
        "        for i in range(0, len(encrypted_data), 24):  # 3 * 8 = 24 bits for RGB\n",
        "            r = int(encrypted_data[i:i + 8], 2)\n",
        "            g = int(encrypted_data[i + 8:i + 16], 2)\n",
        "            b = int(encrypted_data[i + 16:i + 24], 2)\n",
        "            encrypted_pixels.append((r, g, b))\n",
        "\n",
        "        encrypted_image.putdata(encrypted_pixels)\n",
        "\n",
        "    encrypted_image.save(output_image_path)"
      ],
      "metadata": {
        "id": "uOjV_XVFWYTv"
      },
      "execution_count": 72,
      "outputs": []
    },
    {
      "cell_type": "markdown",
      "source": [
        "## Dekripsi"
      ],
      "metadata": {
        "id": "DlRGGh3AL0XV"
      }
    },
    {
      "cell_type": "code",
      "source": [
        "def decrypt_image(encrypted_image_path, key, output_image_path):\n",
        "    # Open the image and convert to RGB or Grayscale\n",
        "    img = Image.open(encrypted_image_path)\n",
        "\n",
        "    # Check if the image is grayscale or color\n",
        "    is_grayscale = img.mode == 'L'\n",
        "    if is_grayscale:\n",
        "        img = img.convert('L')  # Convert to grayscale if it's not already\n",
        "\n",
        "    pixels = list(img.getdata())\n",
        "\n",
        "    # Convert pixels to binary\n",
        "    if is_grayscale:\n",
        "        binary_pixels = ''.join(format(pixel, '08b') for pixel in pixels)\n",
        "    else:\n",
        "        binary_pixels = ''.join(format(component, '08b') for pixel in pixels for component in pixel)\n",
        "\n",
        "    decrypted_data = ''\n",
        "\n",
        "    # Decrypt in 64-bit blocks\n",
        "    for i in range(0, len(binary_pixels), 64):\n",
        "        block = binary_pixels[i:i + 64]\n",
        "        decrypted_block = des_decrypt(block, key)\n",
        "        decrypted_data += decrypted_block\n",
        "\n",
        "    # Save decrypted data into an image\n",
        "    if is_grayscale:\n",
        "        decrypted_image = Image.new('L', img.size)  # Create a new grayscale image\n",
        "        decrypted_pixels = []\n",
        "\n",
        "        for i in range(0, len(decrypted_data), 8):  # 8 bits for grayscale\n",
        "            gray_value = int(decrypted_data[i:i + 8], 2)\n",
        "            decrypted_pixels.append(gray_value)\n",
        "\n",
        "        decrypted_image.putdata(decrypted_pixels)\n",
        "    else:\n",
        "        decrypted_image = Image.new('RGB', img.size)  # Create a new color image\n",
        "        decrypted_pixels = []\n",
        "\n",
        "        for i in range(0, len(decrypted_data), 24):  # 3 * 8 = 24 bits for RGB\n",
        "            r = int(decrypted_data[i:i + 8], 2)\n",
        "            g = int(decrypted_data[i + 8:i + 16], 2)\n",
        "            b = int(decrypted_data[i + 16:i + 24], 2)\n",
        "            decrypted_pixels.append((r, g, b))\n",
        "\n",
        "        decrypted_image.putdata(decrypted_pixels)\n",
        "\n",
        "    decrypted_image.save(output_image_path)"
      ],
      "metadata": {
        "id": "cU1T-pq5emqq"
      },
      "execution_count": 73,
      "outputs": []
    },
    {
      "cell_type": "markdown",
      "source": [
        "## Testing"
      ],
      "metadata": {
        "id": "xH5Yp155MinF"
      }
    },
    {
      "cell_type": "code",
      "source": [
        "# Path untuk gambar input dan output\n",
        "input_image_path = 'lena.jpg'\n",
        "encrypted_image_path = 'lena_encrypted.jpg'\n",
        "decrypted_image_path = 'lena_decrypted.jpg'\n",
        "\n",
        "# Kunci DES (harus berupa 64-bit atau 8 karakter)\n",
        "key = '46114220'"
      ],
      "metadata": {
        "id": "qV1vzC_TsuyL"
      },
      "execution_count": 74,
      "outputs": []
    },
    {
      "cell_type": "code",
      "source": [
        "# Enkripsi gambar\n",
        "encrypt_image(input_image_path, key, encrypted_image_path)\n",
        "print(f\"Gambar telah terenkripsi dan disimpan di {encrypted_image_path}\")"
      ],
      "metadata": {
        "id": "vL1_fBcxMkAI",
        "colab": {
          "base_uri": "https://localhost:8080/"
        },
        "outputId": "b7a4b601-738c-49dd-e355-b871a54bef86"
      },
      "execution_count": 75,
      "outputs": [
        {
          "output_type": "stream",
          "name": "stdout",
          "text": [
            "Gambar telah terenkripsi dan disimpan di lena_encrypted.jpg\n"
          ]
        }
      ]
    },
    {
      "cell_type": "code",
      "source": [
        "# Dekripsi gambar\n",
        "decrypt_image(encrypted_image_path, key, decrypted_image_path)\n",
        "print(f\"Gambar telah terdekripsi dan disimpan di {decrypted_image_path}\")"
      ],
      "metadata": {
        "colab": {
          "base_uri": "https://localhost:8080/"
        },
        "id": "tKYKhGzxs6SV",
        "outputId": "e369611b-6666-44d3-b11f-da2d32f40189"
      },
      "execution_count": 76,
      "outputs": [
        {
          "output_type": "stream",
          "name": "stdout",
          "text": [
            "Gambar telah terdekripsi dan disimpan di lena_decrypted.jpg\n"
          ]
        }
      ]
    },
    {
      "cell_type": "markdown",
      "source": [
        "# DES Audio"
      ],
      "metadata": {
        "id": "2SapBc9LweF0"
      }
    },
    {
      "cell_type": "code",
      "source": [],
      "metadata": {
        "id": "RMhlXOSHwdYF"
      },
      "execution_count": null,
      "outputs": []
    }
  ]
}